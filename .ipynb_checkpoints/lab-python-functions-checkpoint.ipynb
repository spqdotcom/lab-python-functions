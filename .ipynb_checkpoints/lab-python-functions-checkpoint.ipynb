{
 "cells": [
  {
   "cell_type": "markdown",
   "id": "25d7736c-ba17-4aff-b6bb-66eba20fbf4e",
   "metadata": {},
   "source": [
    "# Lab | Functions"
   ]
  },
  {
   "cell_type": "markdown",
   "id": "0c581062-8967-4d93-b06e-62833222f930",
   "metadata": {
    "tags": []
   },
   "source": [
    "### Exercise: Managing Customer Orders with Functions\n",
    "\n",
    "In the previous exercise, you improved the code for managing customer orders by using loops and flow control. Now, let's take it a step further and refactor the code by introducing functions.\n",
    "\n",
    "Follow the steps below to complete the exercise:\n",
    "\n",
    "1. Define a function named `initialize_inventory` that takes `products` as a parameter. Inside the function, implement the code for initializing the inventory dictionary using a loop and user input.\n",
    "\n",
    "2. Define a function named `get_customer_orders` that takes no parameters. Inside the function, implement the code for prompting the user to enter the product names using a loop. The function should return the `customer_orders` set.\n",
    "\n",
    "3. Define a function named `update_inventory` that takes `customer_orders` and `inventory` as parameters. Inside the function, implement the code for updating the inventory dictionary based on the customer orders.\n",
    "\n",
    "4. Define a function named `calculate_order_statistics` that takes `customer_orders` and `products` as parameters. Inside the function, implement the code for calculating the order statistics (total products ordered, and percentage of unique products ordered). The function should return these values.\n",
    "\n",
    "5. Define a function named `print_order_statistics` that takes `order_statistics` as a parameter. Inside the function, implement the code for printing the order statistics.\n",
    "\n",
    "6. Define a function named `print_updated_inventory` that takes `inventory` as a parameter. Inside the function, implement the code for printing the updated inventory.\n",
    "\n",
    "7. Call the functions in the appropriate sequence to execute the program and manage customer orders.\n",
    "\n",
    "Hints for functions:\n",
    "\n",
    "- Consider the input parameters required for each function and their return values.\n",
    "- Utilize function parameters and return values to transfer data between functions.\n",
    "- Test your functions individually to ensure they work correctly.\n",
    "\n",
    "\n"
   ]
  },
  {
   "cell_type": "code",
   "execution_count": 39,
   "id": "e73cfca2-4ba3-43a6-ae4b-c46dc50c906e",
   "metadata": {},
   "outputs": [],
   "source": [
    "products = [\"t-shirt\", \"mug\", \"hat\", \"book\", \"keychain\"]\n",
    "\n",
    "inventory = {}\n"
   ]
  },
  {
   "cell_type": "code",
   "execution_count": 59,
   "id": "f277e301-b0c3-488e-a1b0-18aea8ebaf0d",
   "metadata": {},
   "outputs": [],
   "source": [
    "def initialize_inventory(products):\n",
    "    for items in products:\n",
    "        inventory [items] = int(input(f\"Please enter the quantity of the product {items} available: \"))\n",
    "    return inventory\n",
    "    "
   ]
  },
  {
   "cell_type": "code",
   "execution_count": 72,
   "id": "39655830-e0a0-4127-a412-dd3c1485d609",
   "metadata": {},
   "outputs": [
    {
     "name": "stdin",
     "output_type": "stream",
     "text": [
      "Please enter the quantity of the product t-shirt available:  5\n",
      "Please enter the quantity of the product mug available:  5\n",
      "Please enter the quantity of the product hat available:  5\n",
      "Please enter the quantity of the product book available:  5\n",
      "Please enter the quantity of the product keychain available:  5\n"
     ]
    }
   ],
   "source": [
    "inventory = initialize_inventory(products)"
   ]
  },
  {
   "cell_type": "code",
   "execution_count": 74,
   "id": "febb7106-c854-4050-9c0a-8a02f43e9938",
   "metadata": {},
   "outputs": [
    {
     "data": {
      "text/plain": [
       "{'t': 5, 't-shirt': 5, 'mug': 5, 'hat': 5, 'book': 5, 'keychain': 5}"
      ]
     },
     "execution_count": 74,
     "metadata": {},
     "output_type": "execute_result"
    }
   ],
   "source": [
    "inventory"
   ]
  },
  {
   "cell_type": "code",
   "execution_count": 63,
   "id": "3546eaa3-3aed-47a8-ab29-de59fcd79d5d",
   "metadata": {},
   "outputs": [],
   "source": [
    "customer_orders = set()"
   ]
  },
  {
   "cell_type": "code",
   "execution_count": 65,
   "id": "3519c667-72bf-4d18-85e2-cd49ef708952",
   "metadata": {},
   "outputs": [],
   "source": [
    "def get_customer_orders():\n",
    "    order1 = input(\"Plese enter your order: \")\n",
    "    customer_orders.add(order1)\n",
    "    while input(\"Do you want to do another order? Please respond yes or no:\") == \"yes\":\n",
    "        order2 = input(\"Please enter your order: \")\n",
    "        customer_orders.add(order2)\n",
    "    return customer_orders"
   ]
  },
  {
   "cell_type": "code",
   "execution_count": 76,
   "id": "32b2979a-ec04-4420-8d79-767de1f19580",
   "metadata": {},
   "outputs": [
    {
     "name": "stdin",
     "output_type": "stream",
     "text": [
      "Plese enter your order:  hat\n",
      "Do you want to do another order? Please respond yes or no: no\n"
     ]
    }
   ],
   "source": [
    "customer_orders = get_customer_orders()"
   ]
  },
  {
   "cell_type": "code",
   "execution_count": 78,
   "id": "33b75590-f949-4c24-ab6c-ffd0723c7e5f",
   "metadata": {},
   "outputs": [
    {
     "data": {
      "text/plain": [
       "{'hat'}"
      ]
     },
     "execution_count": 78,
     "metadata": {},
     "output_type": "execute_result"
    }
   ],
   "source": [
    "customer_orders"
   ]
  },
  {
   "cell_type": "code",
   "execution_count": 86,
   "id": "76c2ffef-b070-45a2-878c-ad87554a299e",
   "metadata": {},
   "outputs": [],
   "source": [
    "def update_inventory(customer_orders,inventory):\n",
    "    for product in customer_orders:\n",
    "        if product in inventory and inventory[product] > 0:\n",
    "            inventory[product] -= 1\n",
    "    return inventory\n",
    "        "
   ]
  },
  {
   "cell_type": "code",
   "execution_count": 88,
   "id": "350d0452-0e8c-463d-b94c-92f6a21f0f49",
   "metadata": {},
   "outputs": [],
   "source": [
    "inventory = update_inventory(customer_orders,inventory)"
   ]
  },
  {
   "cell_type": "code",
   "execution_count": 90,
   "id": "e2bf81e2-fdf2-42f0-b157-93b538828eca",
   "metadata": {},
   "outputs": [
    {
     "data": {
      "text/plain": [
       "{'t': 5, 't-shirt': 5, 'mug': 5, 'hat': 4, 'book': 5, 'keychain': 5}"
      ]
     },
     "execution_count": 90,
     "metadata": {},
     "output_type": "execute_result"
    }
   ],
   "source": [
    "inventory"
   ]
  },
  {
   "cell_type": "code",
   "execution_count": 92,
   "id": "ca09eaf3-fde4-4d64-8327-12df3bc5e542",
   "metadata": {},
   "outputs": [],
   "source": [
    "def calculate_order_stadistics(customer_orders,products):\n",
    "    total_products_ordered = len(customer_orders)\n",
    "    percentage_ordered = (len(customer_orders)/len(products)) * 100\n",
    "    order_statistics = (total_products_ordered,percentage_ordered)\n",
    "    return order_statistics"
   ]
  },
  {
   "cell_type": "code",
   "execution_count": 104,
   "id": "b2f76198-4b00-491d-a941-7b15988d6dcb",
   "metadata": {},
   "outputs": [],
   "source": [
    "order_statistics = calculate_order_stadistics(customer_orders,products)"
   ]
  },
  {
   "cell_type": "code",
   "execution_count": 138,
   "id": "958feeea-a30d-41f1-88b3-5020c1a9bad9",
   "metadata": {},
   "outputs": [
    {
     "name": "stdout",
     "output_type": "stream",
     "text": [
      "\n",
      "Order Statistics:\n",
      "Total Products Ordered: 1\n",
      "Percentage of Products Ordered: 20.0 %\n"
     ]
    }
   ],
   "source": [
    "print(f\"\\nOrder Statistics:\\nTotal Products Ordered: {order_statistics[0]}\\nPercentage of Products Ordered: {order_statistics[1]} %\")"
   ]
  },
  {
   "cell_type": "code",
   "execution_count": 140,
   "id": "da737c2d-5723-4142-9234-5db7cf7e4189",
   "metadata": {},
   "outputs": [],
   "source": [
    "def print_order_statistics(order_statistics):\n",
    "    return print(f\"\\nOrder Statistics:\\nTotal Products Ordered: {order_statistics[0]}\\nPercentage of Products Ordered: {order_statistics[1]} %\")"
   ]
  },
  {
   "cell_type": "code",
   "execution_count": 142,
   "id": "ab0b37ae-851c-457b-ab29-48d8e86ab1a0",
   "metadata": {},
   "outputs": [
    {
     "name": "stdout",
     "output_type": "stream",
     "text": [
      "\n",
      "Order Statistics:\n",
      "Total Products Ordered: 1\n",
      "Percentage of Products Ordered: 20.0 %\n"
     ]
    }
   ],
   "source": [
    "print_order_statistics(order_statistics)"
   ]
  },
  {
   "cell_type": "code",
   "execution_count": 146,
   "id": "95db41d4-6eba-4fa3-8eba-c8ab3bd7a832",
   "metadata": {},
   "outputs": [],
   "source": [
    "def print_update_inventory(inventory):\n",
    "    return print (inventory)"
   ]
  },
  {
   "cell_type": "code",
   "execution_count": 148,
   "id": "c8396f01-a638-427b-8f6a-a1ed7c120985",
   "metadata": {},
   "outputs": [
    {
     "name": "stdout",
     "output_type": "stream",
     "text": [
      "{'t': 5, 't-shirt': 5, 'mug': 5, 'hat': 4, 'book': 5, 'keychain': 5}\n"
     ]
    }
   ],
   "source": [
    "print_update_inventory(inventory)"
   ]
  }
 ],
 "metadata": {
  "kernelspec": {
   "display_name": "Python [conda env:base] *",
   "language": "python",
   "name": "conda-base-py"
  },
  "language_info": {
   "codemirror_mode": {
    "name": "ipython",
    "version": 3
   },
   "file_extension": ".py",
   "mimetype": "text/x-python",
   "name": "python",
   "nbconvert_exporter": "python",
   "pygments_lexer": "ipython3",
   "version": "3.12.7"
  }
 },
 "nbformat": 4,
 "nbformat_minor": 5
}
